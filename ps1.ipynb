{
 "cells": [
  {
   "cell_type": "markdown",
   "metadata": {},
   "source": [
    "# 监督学习"
   ]
  },
  {
   "cell_type": "markdown",
   "metadata": {},
   "source": [
    "## 逻辑回归"
   ]
  },
  {
   "cell_type": "markdown",
   "metadata": {},
   "source": [
    "### 证明逻辑回归的对数最大似然函数的海森矩阵是半负定矩阵\n",
    "\n",
    "对数最大似然函数表示如下：\n",
    "\n",
    "$$\n",
    "\\ell(\\theta) = \\sum_{i=1}^m y^{(i)} \\log h(x^{(i)})\n",
    "+ (1 - y^{(i)}) \\log (1 - h(x^{(i)}))\n",
    "$$\n",
    "\n",
    "其一阶导根据讲义的证明是：\n",
    "\n",
    "$$\n",
    "\\frac {\\partial \\ell(\\theta)} {\\partial \\theta_k} =\n",
    "\\sum_{i=1}^m (y - h_\\theta (x^{(i)}))x_k^{(i)}\n",
    "$$\n",
    "\n",
    "海森矩阵单个元素可表示为：\n",
    "\n",
    "$$\n",
    "\\begin{aligned}\n",
    "H_{kl} &= \\frac {\\partial \\ell(\\theta)} {\\partial \\theta_k \\theta_l} \\\\\n",
    "&= - \\sum_{i=1}^m \\frac {\\partial h_\\theta (x^{(i)})} {\\partial \\theta_l} x_k^{(i)} \\\\\n",
    "&= - \\sum_{i=1}^m h_\\theta(x^{(i)}) (1-h_\\theta(x^{(i)})) x_l^{(i)}x_k^{(i)}\n",
    "\\end{aligned}\n",
    "$$\n",
    "\n",
    "海森矩阵可表示为：\n",
    "\n",
    "$$H = - \\sum_{i=1}^m h_\\theta(x^{(i)}) (1-h_\\theta(x^{(i)})) x^{(i)} x^{(i)T}$$\n",
    "\n",
    "下面来证明$z^T H z \\leq 0$ 恒成立。\n",
    "\n",
    "$$\n",
    "\\begin{aligned}\n",
    "z^T H z &= - z^T \\sum_{i=1}^m h_\\theta(x^{(i)}) (1-h_\\theta(x^{(i)})) x^{(i)} x^{(i)T} z \\\\\n",
    "&= - \\sum_{i=1}^m h_\\theta(x^{(i)}) (1-h_\\theta(x^{(i)})) z^T x^{(i)} x^{(i)T} z \\\\\n",
    "&= - \\sum_{i=1}^m h_\\theta(x^{(i)}) (1-h_\\theta(x^{(i)})) (z^T x^{(i)})^2 \\\\\n",
    "& \\leq 0\n",
    "\\end{aligned}\n",
    "$$\n",
    "\n",
    "因此逻辑回归的对数最大似然函数的海森矩阵是一个半负定矩阵，其只有一个唯一的全局最大值。\n"
   ]
  },
  {
   "cell_type": "markdown",
   "metadata": {},
   "source": [
    "### 用牛顿法来拟合逻辑回归模型\n",
    "\n",
    "尽管牛顿法的表达式已经给出，但用 python 跑出这个程序还是花了我三个小时。主要的难点在于把前面的代数表示转化为矩阵表示，包括梯度和海森矩阵。下面给出我的 python 代码，用的是 python3。"
   ]
  },
  {
   "cell_type": "code",
   "execution_count": 1,
   "metadata": {},
   "outputs": [
    {
     "name": "stdout",
     "output_type": "stream",
     "text": [
      "[-2.6205116   0.76037154  1.17194674]\n"
     ]
    }
   ],
   "source": [
    "from numpy import *\n",
    "import pandas as pd\n",
    "\n",
    "orx = pd.read_csv('q1x.dat', sep='\\s+', header=None).values\n",
    "y = pd.read_csv('q1y.dat', sep='\\s+', header=None).values.ravel()\n",
    "\n",
    "X = hstack((ones((orx.shape[0], 1)), orx))\n",
    "theta = zeros(X.shape[1])\n",
    "\n",
    "\n",
    "def h(theta):\n",
    "    return 1/(1+exp(-dot(X, theta)))\n",
    "\n",
    "\n",
    "def hd(theta):\n",
    "    return dot(X.T, y - h(theta))\n",
    "\n",
    "\n",
    "def hdd(theta):\n",
    "    return -dot(X.T, tile(h(theta)*(1-h(theta)), (theta.size, 1)).T*X)\n",
    "\n",
    "\n",
    "maxtry = 50\n",
    "\n",
    "for i in range(maxtry):\n",
    "    theta = theta - dot(linalg.inv(hdd(theta)), hd(theta))\n",
    "\n",
    "print(theta)"
   ]
  },
  {
   "cell_type": "markdown",
   "metadata": {},
   "source": [
    "### 画图\n",
    "\n",
    "这个纯粹的就是画图能力的考验，这一块前面看过《python machine learning》，还是比较容易的。"
   ]
  },
  {
   "cell_type": "code",
   "execution_count": 2,
   "metadata": {},
   "outputs": [
    {
     "data": {
      "text/plain": [
       "[<matplotlib.lines.Line2D at 0x7f52737cae80>]"
      ]
     },
     "execution_count": 2,
     "metadata": {},
     "output_type": "execute_result"
    },
    {
     "data": {
      "image/png": "[encoded data removed]",
      "text/plain": [
       "<Figure size 432x288 with 1 Axes>"
      ]
     },
     "metadata": {
      "needs_background": "light"
     },
     "output_type": "display_data"
    }
   ],
   "source": [
    "import matplotlib.pyplot as plt\n",
    "plt.scatter(x = orx[y==1,0], y = orx[y==1,1], marker='o', color='red', label='y=1')\n",
    "plt.scatter(x = orx[y==0,0], y = orx[y==0,1], marker='x', color='blue', label='y=0')\n",
    "plt.xlabel('$x_1$')\n",
    "plt.ylabel('$x_2$')\n",
    "plt.legend(loc='upper left')\n",
    "plt.xlim(0,9)\n",
    "x1 = arange(0,10,1)\n",
    "x2 = (-theta[0]-theta[1]*x1)/theta[2]\n",
    "plt.plot(x1, x2)"
   ]
  },
  {
   "cell_type": "markdown",
   "metadata": {},
   "source": [
    "## 局部加权回归"
   ]
  },
  {
   "cell_type": "markdown",
   "metadata": {},
   "source": [
    "### 加权系数的矩阵表示\n",
    "\n",
    "令$W_{ii}=\\frac{1}{2} w^{(i)}，W_{ij}=0 \\text{ for } i \\neq j, \\overrightarrow{z}=X\\theta-\\overrightarrow{y}, z_i=\\theta^T x^{(i)}-y^{(i)}$，因此可以推导出下式：\n",
    "\n",
    "$$\n",
    "\\begin{aligned}\n",
    "J(\\theta) &= (X\\theta-\\overrightarrow{y})^TW(X\\theta-\\overrightarrow{y}) \\\\\n",
    "&=\\overrightarrow{z}^TW \\overrightarrow{z} \\\\\n",
    "&=\\frac{1}{2} \\sum_{i=1}^m w^{(i)} z_i^2 \\\\\n",
    "&= \\frac{1}{2} \\sum_{i=1}^m w^{(i)} (\\theta^T x^{(i)}-y^{(i)})^2\n",
    "\\end{aligned}\n",
    "$$"
   ]
  },
  {
   "cell_type": "markdown",
   "metadata": {},
   "source": [
    "### 局部加权的标准方程\n",
    "\n",
    "根据上式得到的损失函数，可以计算如下：\n",
    "\n",
    "$$\n",
    "\\begin{aligned}\n",
    "\\nabla_{\\theta}J(\\theta)&=\\nabla_{\\theta}\\frac{1}2(X\\theta-\\overrightarrow{y})^T W (X\\theta-\\overrightarrow{y})\\\\\n",
    "&=\\frac{1}2\\nabla_{\\theta}(\\theta^T X^T W X\\theta-\\theta^TX^T W \\overrightarrow{y}-\\overrightarrow{y}^T W X\\theta+\\overrightarrow{y}^T W \\overrightarrow{y})\\\\\n",
    "&=\\frac{1}2\\nabla_{\\theta}tr(\\theta^TX^T W X\\theta-\\theta^TX^T W \\overrightarrow{y}-\\overrightarrow{y}^T W X\\theta+\\overrightarrow{y}^T W \\overrightarrow{y})\\\\\n",
    "&=\\frac{1}2\\nabla_{\\theta}(tr\\theta^TX^T W X\\theta-2tr\\overrightarrow{y}^T W X\\theta)\\\\\n",
    "&=\\frac{1}2(X^T W X\\theta+X^TWX\\theta-2X^TW^T\\overrightarrow{y}）\\\\\n",
    "&=X^TWX\\theta-X^TW\\overrightarrow{y}\n",
    "\\end{aligned}\n",
    "$$\n",
    "\n",
    "令上式为 0，最终我们得出局部加权的标准方程为：\n",
    "\n",
    "$$\n",
    "\\begin{aligned}\n",
    "X^TWX\\theta&=X^TW\\overrightarrow{y}\\\\\n",
    "\\theta &= (X^TWX)^{-1}X^TW\\overrightarrow{y}\n",
    "\\end{aligned}\n",
    "$$"
   ]
  },
  {
   "cell_type": "markdown",
   "metadata": {},
   "source": [
    "### 以 y 的方差表示加权系数\n",
    "\n",
    "$$\n",
    "\\begin{aligned}\n",
    "\\ell(\\theta)&=\\log{L(\\theta)}\\\\\n",
    "&=\\log\\prod_{i=1}^m\\frac{1}{\\sqrt{2\\pi}\\sigma^{(i)}}\\exp(-\\frac{(y^{(i)}-\\theta^Tx^{(i)})^2}{2(\\sigma^{(i)})^2})\\\\\n",
    "&=\\sum_{i=1}^m \\log\\frac{1}{\\sqrt{2\\pi}\\sigma^{(i)}}\\exp(-\\frac{(y^{(i)}-\\theta^Tx^{(i)})^2}{2(\\sigma^{(i)})^2})\\\\\n",
    "&=\\sum_{i=1}^m\\log\\frac{1}{\\sqrt{2\\pi}\\sigma^{(i)}}-\\frac{1}{2}\\sum_{i=1}^{m}\\frac{1}{(\\sigma^{(i)})^2} (h_\\theta(x^{(i)})-y^{(i)})^2 \\\\\n",
    "&=\\sum_{i=1}^m\\log\\frac{1}{\\sqrt{2\\pi}\\sigma^{(i)}} - \\frac{1}{2}\\sum_{i=1}^{m} w^{(i)} (h_\\theta(x^{(i)})-y^{(i)})^2\n",
    "\\end{aligned}\n",
    "$$\n",
    "\n",
    "即：\n",
    "\n",
    "$$w^{(i)} = \\frac{1}{(\\sigma^{(i)})^2} $$"
   ]
  },
  {
   "cell_type": "markdown",
   "metadata": {},
   "source": [
    "### 回归问题"
   ]
  },
  {
   "cell_type": "markdown",
   "metadata": {},
   "source": [
    "#### 实现一般回归\n",
    "\n",
    "用标准方程来写一般回归是比较容易的。"
   ]
  },
  {
   "cell_type": "code",
   "execution_count": 3,
   "metadata": {},
   "outputs": [
    {
     "name": "stdout",
     "output_type": "stream",
     "text": [
      "[0.32767539 0.17531122]\n"
     ]
    },
    {
     "data": {
      "text/plain": [
       "[<matplotlib.lines.Line2D at 0x7f5273622d30>]"
      ]
     },
     "execution_count": 3,
     "metadata": {},
     "output_type": "execute_result"
    },
    {
     "data": {
      "image/png": "[encoded data removed]",
      "text/plain": [
       "<Figure size 432x288 with 1 Axes>"
      ]
     },
     "metadata": {
      "needs_background": "light"
     },
     "output_type": "display_data"
    }
   ],
   "source": [
    "from numpy import *\n",
    "import pandas as pd\n",
    "orx = pd.read_csv('q2x.dat', sep = '\\s+', header=None).values\n",
    "y = pd.read_csv('q2y.dat', sep = '\\s+', header=None).values.ravel()\n",
    "X = hstack((ones((orx.shape[0],1)), orx))\n",
    "theta = dot(dot(linalg.inv(dot(X.T,X)), X.T),y)\n",
    "print(theta)\n",
    "\n",
    "import matplotlib.pyplot as plt\n",
    "plt.scatter(x = orx.ravel(), y = y, marker='x', color='blue')\n",
    "plt.xlabel('x')\n",
    "plt.ylabel('y')\n",
    "plt.xlim(-10,15)\n",
    "xl = arange(-10,16,1)\n",
    "yl = theta[0]+theta[1]*xl\n",
    "plt.plot(xl, yl)"
   ]
  },
  {
   "cell_type": "markdown",
   "metadata": {},
   "source": [
    "#### 实现局部加权线性回归\n",
    "\n",
    "最终的图形如下（这图还可以优化一下），局部线性回归可以较好的拟合散点。"
   ]
  },
  {
   "cell_type": "code",
   "execution_count": 6,
   "metadata": {},
   "outputs": [
    {
     "data": {
      "image/png": "[encoded data removed]",
      "text/plain": [
       "<Figure size 432x288 with 1 Axes>"
      ]
     },
     "metadata": {
      "needs_background": "light"
     },
     "output_type": "display_data"
    }
   ],
   "source": [
    "Xl = arange(-10, 15.01, 0.02)\n",
    "def plot_t(t):\n",
    "    Xl = arange(-10, 15.01, 0.02)\n",
    "    Ylo = []\n",
    "    for xl in Xl:\n",
    "        w = exp(-(orx.ravel()-xl)**2/(2*t**2))\n",
    "        W = diag(w)\n",
    "        theta = dot(dot(dot(linalg.pinv(dot(dot(X.T,W),X)),X.T),W),y)\n",
    "        yl = dot(theta.T,array([1,xl]))\n",
    "        Ylo.append(yl)\n",
    "        Yl = array(Ylo)\n",
    "    plt.plot(Xl,Yl,color='red')\n",
    "plt.scatter(x = orx.ravel(), y = y, marker='x', color='blue')\n",
    "plt.xlabel('x')\n",
    "plt.ylabel('y')\n",
    "plt.xlim(-10,15)\n",
    "plot_t(0.8)\n",
    "plot_t(0.3)\n",
    "plot_t(2)"
   ]
  },
  {
   "cell_type": "markdown",
   "metadata": {},
   "source": [
    "#### 带宽的影响\n",
    "\n",
    "带宽决定了影响模型的样本数量多少。带宽越小，影响模型的样本越少，模型也更容易受噪音影响，上面当带宽变 0.1 时，直接导致矩阵不可逆。带宽越大，影响模型的样本越多，模型更趋于一般线性回归。"
   ]
  },
  {
   "cell_type": "markdown",
   "metadata": {},
   "source": [
    "## 泊松回归和指数分布簇"
   ]
  },
  {
   "cell_type": "markdown",
   "metadata": {},
   "source": [
    "### 证明泊松分布属于指数分布族\n",
    "\n",
    "$$\n",
    "\\begin{aligned}\n",
    "p(y;\\lambda) &= \\frac {e^{-\\lambda} \\lambda^y} {y!} \\\\\n",
    "&= \\frac{1}{y!} \\exp(y \\log \\lambda - \\lambda)\n",
    "\\end{aligned}\n",
    "$$\n",
    "\n",
    "因此可以得到：\n",
    "\n",
    "$$\n",
    "\\begin{aligned}\n",
    "b(y) &= \\frac{1}{y!} \\\\\n",
    "T(y) &= y \\\\\n",
    "\\eta &= \\log \\lambda \\Rightarrow \\lambda = e^\\eta \\\\\n",
    "a(\\eta) &= \\lambda = e^\\eta\n",
    "\\end{aligned}\n",
    "$$"
   ]
  },
  {
   "cell_type": "markdown",
   "metadata": {},
   "source": [
    "### 泊松模型的正则响应函数\n",
    "\n",
    "$$\n",
    "\\begin{aligned}\n",
    "g(\\eta) &= E[T(y); \\eta] \\\\\n",
    "&= E[y; \\eta] \\\\\n",
    "&= \\lambda \\\\\n",
    "&= e^\\eta\n",
    "\\end{aligned}\n",
    "$$"
   ]
  },
  {
   "cell_type": "markdown",
   "metadata": {},
   "source": [
    "### 泊松模型的随机梯度下降\n",
    "\n",
    "$$\n",
    "\\begin{aligned}\n",
    "\\frac {\\partial \\ell(\\theta)} {\\theta_j} &= \\frac {\\partial \\log p(y^{(i)} \\mid x^{(i)}; \\theta)} {\\partial \\theta_j} \\\\\n",
    "&= \\frac {\\partial \\log ( \\frac {1} {y^{(i)}!} \\exp(\\eta^Ty^{(i)} - e^\\eta))}{\\partial \\theta_j} \\\\\n",
    "&= \\frac {\\partial ((\\theta^Tx^{(i)})^Ty^{(i)} - e^{\\theta^Tx^{(i)}})} {\\partial \\theta_j} \\\\\n",
    "&= \\frac{\\partial ((\\sum_k \\theta_k x_k^{(i)})y^{(i)} - e^{\\sum_k \\theta_k x_k^{(i)}})}{\\partial \\theta_j} \\\\\n",
    "&= x_j^{(i)} y^{(i)} - e^{\\sum_k \\theta_k x_k^{(i)}} x_j^{(i)} \\\\\n",
    "&= (y^{(i)} - e^{\\theta^T x^{(i)}})x_j^{(i)}\n",
    "\\end{aligned}\n",
    "$$\n",
    "\n",
    "随机梯度上升的规则是：\n",
    "\n",
    "$$\n",
    "\\begin{aligned}\n",
    "\\theta_j & := \\theta_j + \\alpha \\frac {\\partial \\ell(\\theta)} {\\partial \\theta_j} \\\\\n",
    "& := \\theta_j + \\alpha (y^{(i)} - e^{\\theta^T x^{(i)}})x_j^{(i)}\n",
    "\\end{aligned}\n",
    "$$"
   ]
  },
  {
   "cell_type": "markdown",
   "metadata": {},
   "source": [
    "### 证明递归规则的通用性\n",
    "\n",
    "首先可以得出：\n",
    "\n",
    "$$\n",
    "\\begin{aligned}\n",
    "\\frac {\\partial \\ell(\\theta)} {\\partial \\theta_j} &= \\frac {\\partial \\log p(y^{(i)} \\mid x^{(i)}; \\theta)} {\\partial \\theta_j} \\\\\n",
    "&= \\frac {\\partial \\log (b(y) \\exp (\\eta^Ty - a(\\eta)))} {\\partial \\theta_j} \\\\\n",
    "&= \\frac {\\partial (\\eta^Ty - a(\\eta))} {\\partial \\theta_j} \\\\\n",
    "&= x_jy - \\frac {\\partial a(\\eta)} {\\partial \\eta} x_j \\\\\n",
    "&= (y - \\frac {\\partial a(\\eta)} {\\partial \\eta}) x_j\n",
    "\\end{aligned}\n",
    "$$\n",
    "\n",
    "因此只需要证明 $\\frac {\\partial a(\\eta)} {\\partial \\eta} = h(x)$ 即可得证。\n",
    "\n",
    "$$\n",
    "\\begin{aligned}\n",
    "\\int_y p(y \\mid x; \\theta)dy &= 1 \\\\\n",
    "\\int_y b(y) \\exp (\\eta^Ty - a(\\eta))dy &= 1 \\\\\n",
    "\\int_y b(y) \\exp (\\eta^Ty)dy &= \\exp(a(\\eta))\n",
    "\\end{aligned}\n",
    "$$\n",
    "\n",
    "等式两边对$\\eta$求导：\n",
    "\n",
    "$$\n",
    "\\begin{aligned}\n",
    "\\int_y b(y) \\exp (\\eta^Ty)dy &= \\exp(a(\\eta)) \\frac {\\partial a(\\eta)} {\\partial \\eta} \\\\\n",
    "\\frac {\\partial a(\\eta)} {\\partial \\eta} &= \\int_y b(y) y \\exp (\\eta^Ty - a(\\eta))dy \\\\\n",
    "&= \\int_y y p(y \\mid x; \\theta)dy \\\\\n",
    "&= E[y \\mid x; \\theta] = h(x)\n",
    "\\end{aligned}\n",
    "$$\n",
    "\n",
    "因此上面的递归规则具有通用性。"
   ]
  },
  {
   "cell_type": "markdown",
   "metadata": {},
   "source": [
    "## 高斯判别分析"
   ]
  },
  {
   "cell_type": "markdown",
   "metadata": {},
   "source": [
    "### 高斯判别分析与逻辑回归的关系\n",
    "\n",
    "$$\n",
    "\\begin{aligned}\n",
    "p(y=1 \\mid x; \\phi, \\Sigma, \\mu_0, \\mu_1) &= \\frac {p(x \\mid y=1; \\phi, \\Sigma, \\mu_0, \\mu_1) p(y=1; \\phi, \\Sigma, \\mu_0, \\mu_1)} {p(x; \\phi, \\Sigma, \\mu_0, \\mu_1)} \\\\\n",
    "&= \\frac {p(x \\mid y=1; \\phi, \\Sigma, \\mu_0, \\mu_1) p(y=1; \\phi, \\Sigma, \\mu_0, \\mu_1)} {p(x \\mid y=1; \\phi, \\Sigma, \\mu_0, \\mu_1) p(y=1; \\phi, \\Sigma, \\mu_0, \\mu_1) + p(x \\mid y=0; \\phi, \\Sigma, \\mu_0, \\mu_1) p(y=0; \\phi, \\Sigma, \\mu_0, \\mu_1)} \\\\\n",
    "&= \\frac { \\exp\\left(-\\frac{1}{2}(x-\\mu_1)^T\\Sigma^{-1}(x-\\mu_1)\\right)\\phi} { \\exp\\left(-\\frac{1}{2}(x-\\mu_1)^T\\Sigma^{-1}(x-\\mu_1)\\right)\\phi + \\exp\\left(-\\frac{1}{2}(x-\\mu_0)^T\\Sigma^{-1}(x-\\mu_0)\\right)(1-\\phi)} \\\\\n",
    "&=\\frac {1} {1+ \\exp\\left(\\log( \\frac {1-\\phi} {\\phi})-\\frac{1}{2}(x-\\mu_0)^T\\Sigma^{-1}(x-\\mu_0)+\\frac{1}{2}(x-\\mu_1)^T\\Sigma^{-1}(x-\\mu_1)\\right)} \\\\\n",
    "&= \\frac{1} {1 + \\exp \\left(-\\frac{1}{2} (-2\\mu_0^T\\Sigma^{-1}x + \\mu_0^T\\Sigma^{-1}\\mu_0 + 2\\mu_1^T\\Sigma^{-1}x - \\mu_1^T\\Sigma^{-1}\\mu_1) + \\log ( \\frac {1-\\phi} {\\phi})\\right)}\n",
    "\\end{aligned}\n",
    "$$\n",
    "\n",
    "因此可以得到：\n",
    "\n",
    "$$\n",
    "\\theta =\n",
    "\\begin{bmatrix}\n",
    "\\frac{1}{2}(\\mu_0^T\\Sigma^{-1}\\mu_0-\\mu_1^T\\Sigma^{-1}\\mu_1) - \\log( \\frac {1-\\phi} {\\phi}) \\\\\n",
    "\\Sigma^{-1}\\mu_1 - \\Sigma^{-1}\\mu_0\n",
    "\\end{bmatrix}\n",
    "$$"
   ]
  },
  {
   "cell_type": "markdown",
   "metadata": {},
   "source": [
    "### 模型参数推导\n",
    "\n",
    "$$\n",
    "\\begin{aligned}\n",
    "\\ell(\\phi,\\mu_0,\\mu_1,\\Sigma) &= \\log \\prod_{i=1}^m p(x^{(i)} \\mid y^{(i)}; \\mu_0, \\mu_1, \\Sigma) p(y^{(i)}; \\phi) \\\\\n",
    "&= \\sum_{i=1}^m \\log p(x^{(i)} \\mid y^{(i)}; \\mu_0, \\mu_1, \\Sigma) + \\sum_{i=1}^m \\log p(y^{(i)}; \\phi) \\\\\n",
    "&\\simeq \\sum_{i=1}^m [\\frac{1}{2} \\log \\frac{1}{\\left| \\Sigma \\right|} -\\frac{1}{2}(x^{(i)}-\\mu_{y^{(i)}})^T\\Sigma^{-1}(x^{(i)}-\\mu_{y^{(i)}}) + y^{(i)} \\log \\phi + (1 - y^{(i)}) \\log(1-\\phi)]\n",
    "\\end{aligned}\n",
    "$$\n",
    "\n",
    "然后分别对各参数求偏导。\n",
    "\n",
    "首先求解$\\phi$\n",
    "\n",
    "$$\n",
    "\\begin{aligned}\n",
    "\\frac{\\partial \\ell} {\\partial \\phi} &= \\sum_{i=1}^m \\left[\\frac{y^{(i)}}{\\phi} - \\frac {1-y^{(i)}} {1 - \\phi} \\right] \\\\\n",
    "&= \\frac{\\sum_{i=1}^m 1\\{y^{(i)}=1\\}}{\\phi} - \\frac{m - \\sum_{i=1}^m 1\\{y^{(i)}=1\\}}{1-\\phi}\n",
    "\\end{aligned}\n",
    "$$\n",
    "\n",
    "令上式为0，可以得到：\n",
    "\n",
    "$$\n",
    "\\phi = \\frac{1}{m}\\sum_{i=1}^m1\\{y^{(1)}\\}\n",
    "$$\n",
    "\n",
    "再求解$\\mu_0$\n",
    "\n",
    "$$\n",
    "\\begin{aligned}\n",
    "\\nabla_{\\mu_0} \\ell &= -\\frac{1}{2} \\sum_{i:y^{(i)}=0}\\nabla_{\\mu_0}(x^{(i)}-\\mu_0)^T\\Sigma^{-1}(x^{(i)}-\\mu_0) \\\\\n",
    "&= -\\frac{1}{2} \\sum_{i:y^{(i)}=0}\\nabla_{\\mu_0} [\\mu_0^T\\Sigma^{-1}\\mu_0-{x^{(i)}}^T \\Sigma^{-1} \\mu_0 - \\mu_0^T \\Sigma^{-1} x^{(i)}] \\\\\n",
    "&= -\\frac{1}{2} \\sum_{i:y^{(i)}=0}\\nabla_{\\mu_0} tr[\\mu_0^T\\Sigma^{-1}\\mu_0-{x^{(i)}}^T \\Sigma^{-1} \\mu_0 - \\mu_0^T \\Sigma^{-1} x^{(i)}] \\\\\n",
    "&= -\\frac{1}{2} \\sum_{i:y^{(i)}=0} [2\\Sigma^{-1} \\mu_0 - 2\\Sigma^{-1} x^{(i)}]\n",
    "\\end{aligned}\n",
    "$$\n",
    "\n",
    "令上式为0，可以得到，$\\mu_1$同理：\n",
    "\n",
    "$$\n",
    "\\mu_0 = \\frac{\\sum_{i=1}^m1\\{y^{i}=0\\}x^{(i)}}{\\sum_{i=1}^m1\\{y^{i}=0\\}}\n",
    "$$\n",
    "\n",
    "最后求解$\\Sigma$，为方便计算，对$S = \\Sigma^{-1}$求偏导：\n",
    "\n",
    "$$\n",
    "\\begin{aligned}\n",
    "\\nabla_S \\ell &= \\sum_{i=1}^m \\nabla_S [\\frac{1}{2} \\log \\left| S \\right| - \\frac{1}{2}(x^{(i)}-\\mu_{y^{(i)}})^TS(x^{(i)}-\\mu_{y^{(i)}})] \\\\\n",
    "&= \\sum_{i=1}^m [\\frac{1}{2\\left| S \\right|}\\nabla_S \\left| S \\right| - \\frac{1}{2}\\nabla_S(x^{(i)}-\\mu_{y^{(i)}})^TS(x^{(i)}-\\mu_{y^{(i)}})] \\\\\n",
    "&= \\sum_{i=1}^m[\\frac{1} {2} S^{-1} - \\frac{1} {2} (x^{(i)}-\\mu_{y^{(i)}})(x^{(i)}-\\mu_{y^{(i)}})^T] \\\\\n",
    "&= \\frac{1}{2} \\sum_{i=1}^m[\\Sigma - (x^{(i)}-\\mu_{y^{(i)}})(x^{(i)}-\\mu_{y^{(i)}})^T]\n",
    "\\end{aligned}\n",
    "$$\n",
    "\n",
    "令上式为0，可以得到：\n",
    "\n",
    "$$\n",
    "\\Sigma = \\frac{1}{m}\\sum_{i=1}^m(x^{(i)}-\\mu_{y^{(i)}})(x^{(i)}-\\mu_{y^{(i)}})^T\n",
    "$$\n"
   ]
  },
  {
   "cell_type": "markdown",
   "metadata": {},
   "source": [
    "## 优化算法线性不变性"
   ]
  },
  {
   "cell_type": "markdown",
   "metadata": {},
   "source": [
    "### 证明牛顿法是线性不变的\n",
    "\n",
    "令$g(z)=f(Az)$，需要找到$\\nabla_z g(z)$和$\\nabla_z^2 g(z)$的$f(z)$表示。\n",
    "\n",
    "$$\n",
    "\\begin{aligned}\n",
    "\\frac {\\partial g(z)} {\\partial z_i} &=\n",
    "\\sum_{k=1}^n \\frac{\\partial f(Az)} {\\partial (Az)_k}\n",
    "\\frac{\\partial (Az)_k} {partial z_i} \\\\\n",
    "&= \\sum_{k=1}^n \\frac{\\partial f(Az)} {\\partial (Az)_k} A_{ki} \\\\\n",
    "&= \\sum_{k=1}^n \\frac{\\partial f(Az)} {\\partial x_k} A_{ki}\n",
    "\\end{aligned}\n",
    "$$\n",
    "\n",
    "上式等同于：\n",
    "\n",
    "$$\n",
    "\\frac {\\partial g(z)} {\\partial z_i} =\n",
    "A_{\\cdot i}^T \\nabla_x f(Az)\n",
    "$$\n",
    "\n",
    "其中$A_{\\cdot i}$是A的第i列。因此有：\n",
    "\n",
    "$$\n",
    "\\nabla_z g(z) = A^T \\nabla_x f(Az)\n",
    "$$\n",
    "\n",
    "再来定义海森矩阵$\\nabla_z^2 g(z)$：\n",
    "\n",
    "$$\n",
    "\\begin{aligned}\n",
    "\\frac {\\partial^2 g(z)} {\\partial z_i \\partial z_j}\n",
    "&= \\frac {\\partial} {\\partial z_j} \\sum_{k=1}^n \\frac{\\partial f(Az)} {\\partial (Az)_k} A_{ki} \\\\\n",
    "&= \\sum_l \\sum_k \\frac{\\partial^2 f(Az)} {\\partial x_l \\partial x_k} A_{kj} A_{lj}\n",
    "\\end{aligned}\n",
    "$$\n",
    "\n",
    "因此有:\n",
    "\n",
    "$$H_g(z) = A^T H_f(Az) A$$\n",
    "\n",
    "下面来推导对于函数$f(Ax)$的牛顿方法：\n",
    "\n",
    "$$\n",
    "\\begin{aligned}\n",
    "z^{(i+1)} &= z^{(i)} - H_g(z^{(i)})^{-1} \\nabla_z g(z^{(i)}) \\\\\n",
    "&= z^{(i)} - (A^T H_f(Az^{(i)}) A)^{-1} A^T \\nabla_x f(Az^{(i)}) \\\\\n",
    "&= z^{(i)} - A^{-1}H_f(Az^{(i)})^{-1}(A^T)^{-1}A^T \\nabla_x f(Az^{(i)}) \\\\\n",
    "&= z^{(i)} - A^{-1}H_f(Az^{(i)})^{-1}\\nabla_x f(Az^{(i)})\n",
    "\\end{aligned}\n",
    "$$\n",
    "\n",
    "只需要证明$Az^{(i+1)}=x^{(i+1)}$，即完成证明：\n",
    "\n",
    "$$\n",
    "\\begin{aligned}\n",
    "Az^{(i+1)} &= A(z^{(i)} - A^{-1}H_f(Az^{(i)})^{-1}\\nabla_x f(Az^{(i)})) \\\\\n",
    "&= Az^{(i)} - H_f(Az^{(i)})^{-1}\\nabla_x f(Az^{(i)}) \\\\\n",
    "&= x^{(i)} - H_f(x^{(i)})^{-1} \\nabla_x f(x^{(i)}) \\\\\n",
    "&= x^{(i+1)}\n",
    "\\end{aligned}\n",
    "$$\n"
   ]
  },
  {
   "cell_type": "markdown",
   "metadata": {},
   "source": [
    "### 证明梯度下降法不是线性不变\n",
    "\n",
    "在$g(z)$上应用梯度下降规则：\n",
    "\n",
    "$$\n",
    "z^{(i+1)} = z^{(i)} - \\alpha A^T \\nabla_x f(Az^{(i)})\n",
    "$$\n",
    "\n",
    "在$$f(x)%%上应用梯度下降规则：\n",
    "\n",
    "$$\n",
    "x^{(i+1)} = x^{(i)} - \\alpha \\nabla_x f(x^{(i)})\n",
    "$$\n",
    "\n",
    "要使得$x^{(i+1)} = A z^{(i+1)}$ 成立，\n",
    "\n",
    "$$\n",
    "\\begin{aligned}\n",
    "Az^{(i+1)} &= z^{(i)} - \\alpha AA^T \\nabla_x f(Az^{(i)}) \\\\\n",
    "&= x^{(i)} - \\alpha AA^T \\nabla_x f(x^{(i)})\n",
    "\\end{aligned}\n",
    "$$\n",
    "\n",
    "必须在$AA^T=I$成立的条件下才能成立，因此梯度下降法不是线性不变的。\n"
   ]
  }
 ],
 "metadata": {
  "interpreter": {
   "hash": "d540ecf353a224d86ee989e9abb3f788c7492e79c5cb0dfe2a511e5f89d4ecc8"
  },
  "kernelspec": {
   "display_name": "Python 3.8.12 64-bit ('datascience': conda)",
   "language": "python",
   "name": "python3"
  },
  "language_info": {
   "codemirror_mode": {
    "name": "ipython",
    "version": 3
   },
   "file_extension": ".py",
   "mimetype": "text/x-python",
   "name": "python",
   "nbconvert_exporter": "python",
   "pygments_lexer": "ipython3",
   "version": "3.8.12"
  },
  "orig_nbformat": 4
 },
 "nbformat": 4,
 "nbformat_minor": 2
}
