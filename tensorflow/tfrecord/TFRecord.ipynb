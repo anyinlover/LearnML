{
 "cells": [
  {
   "cell_type": "markdown",
   "metadata": {},
   "source": [
    "# TFRecord\n",
    "\n",
    "TFRecord是TensorFlow推荐的数据存储格式。这是一种简单的二进制格式包含了一系列可变长的二进制记录。每条记录由长度、长度CRC校验，数据，数据CRC校验构成。"
   ]
  },
  {
   "cell_type": "code",
   "execution_count": 2,
   "metadata": {},
   "outputs": [],
   "source": [
    "import tensorflow as tf"
   ]
  },
  {
   "cell_type": "code",
   "execution_count": 2,
   "metadata": {},
   "outputs": [],
   "source": [
    "with tf.io.TFRecordWriter('my_data.tfrecord') as f:\n",
    "    f.write(b'This is the first record')\n",
    "    f.write(b'And this is the second record')"
   ]
  },
  {
   "cell_type": "code",
   "execution_count": 3,
   "metadata": {},
   "outputs": [
    {
     "name": "stdout",
     "output_type": "stream",
     "text": [
      "tf.Tensor(b'This is the first record', shape=(), dtype=string)\n",
      "tf.Tensor(b'And this is the second record', shape=(), dtype=string)\n"
     ]
    },
    {
     "name": "stderr",
     "output_type": "stream",
     "text": [
      "2022-02-28 21:25:12.330868: I tensorflow/stream_executor/cuda/cuda_gpu_executor.cc:925] could not open file to read NUMA node: /sys/bus/pci/devices/0000:09:00.0/numa_node\n",
      "Your kernel may have been built without NUMA support.\n",
      "2022-02-28 21:25:12.352832: I tensorflow/stream_executor/cuda/cuda_gpu_executor.cc:925] could not open file to read NUMA node: /sys/bus/pci/devices/0000:09:00.0/numa_node\n",
      "Your kernel may have been built without NUMA support.\n",
      "2022-02-28 21:25:12.353134: I tensorflow/stream_executor/cuda/cuda_gpu_executor.cc:925] could not open file to read NUMA node: /sys/bus/pci/devices/0000:09:00.0/numa_node\n",
      "Your kernel may have been built without NUMA support.\n",
      "2022-02-28 21:25:12.353905: I tensorflow/core/platform/cpu_feature_guard.cc:151] This TensorFlow binary is optimized with oneAPI Deep Neural Network Library (oneDNN) to use the following CPU instructions in performance-critical operations:  SSE4.1 SSE4.2 AVX AVX2 FMA\n",
      "To enable them in other operations, rebuild TensorFlow with the appropriate compiler flags.\n",
      "2022-02-28 21:25:12.355931: I tensorflow/stream_executor/cuda/cuda_gpu_executor.cc:925] could not open file to read NUMA node: /sys/bus/pci/devices/0000:09:00.0/numa_node\n",
      "Your kernel may have been built without NUMA support.\n",
      "2022-02-28 21:25:12.356234: I tensorflow/stream_executor/cuda/cuda_gpu_executor.cc:925] could not open file to read NUMA node: /sys/bus/pci/devices/0000:09:00.0/numa_node\n",
      "Your kernel may have been built without NUMA support.\n",
      "2022-02-28 21:25:12.356577: I tensorflow/stream_executor/cuda/cuda_gpu_executor.cc:925] could not open file to read NUMA node: /sys/bus/pci/devices/0000:09:00.0/numa_node\n",
      "Your kernel may have been built without NUMA support.\n",
      "2022-02-28 21:25:12.845998: I tensorflow/stream_executor/cuda/cuda_gpu_executor.cc:925] could not open file to read NUMA node: /sys/bus/pci/devices/0000:09:00.0/numa_node\n",
      "Your kernel may have been built without NUMA support.\n",
      "2022-02-28 21:25:12.846431: I tensorflow/stream_executor/cuda/cuda_gpu_executor.cc:925] could not open file to read NUMA node: /sys/bus/pci/devices/0000:09:00.0/numa_node\n",
      "Your kernel may have been built without NUMA support.\n",
      "2022-02-28 21:25:12.846443: I tensorflow/core/common_runtime/gpu/gpu_device.cc:1609] Could not identify NUMA node of platform GPU id 0, defaulting to 0.  Your kernel may not have been built with NUMA support.\n",
      "2022-02-28 21:25:12.846691: I tensorflow/stream_executor/cuda/cuda_gpu_executor.cc:925] could not open file to read NUMA node: /sys/bus/pci/devices/0000:09:00.0/numa_node\n",
      "Your kernel may have been built without NUMA support.\n",
      "2022-02-28 21:25:12.846749: I tensorflow/core/common_runtime/gpu/gpu_device.cc:1525] Created device /job:localhost/replica:0/task:0/device:GPU:0 with 3259 MB memory:  -> device: 0, name: NVIDIA GeForce RTX 3080 Ti, pci bus id: 0000:09:00.0, compute capability: 8.6\n"
     ]
    }
   ],
   "source": [
    "filepaths = ['my_data.tfrecord']\n",
    "dataset = tf.data.TFRecordDataset(filepaths)\n",
    "for item in dataset:\n",
    "    print(item)"
   ]
  },
  {
   "cell_type": "markdown",
   "metadata": {},
   "source": [
    "TFRecord文件支持压缩，尤其是需要通过网络加载时。"
   ]
  },
  {
   "cell_type": "code",
   "execution_count": 4,
   "metadata": {},
   "outputs": [
    {
     "name": "stdout",
     "output_type": "stream",
     "text": [
      "tf.Tensor(b'This is the first record', shape=(), dtype=string)\n",
      "tf.Tensor(b'And this is the second record', shape=(), dtype=string)\n"
     ]
    }
   ],
   "source": [
    "options = tf.io.TFRecordOptions(compression_type='GZIP')\n",
    "with tf.io.TFRecordWriter('my_compressed.tfrecord', options) as f:\n",
    "    f.write(b'This is the first record')\n",
    "    f.write(b'And this is the second record')\n",
    "    \n",
    "for item in tf.data.TFRecordDataset(['my_compressed.tfrecord'], compression_type='GZIP'):\n",
    "    print(item)"
   ]
  },
  {
   "cell_type": "markdown",
   "metadata": {},
   "source": [
    "## Protobuf介绍\n",
    "\n",
    "一般情况下TFRecord是和Protobuf联合使用的，Protobuf是一种可移植的序列化格式。"
   ]
  },
  {
   "cell_type": "code",
   "execution_count": 5,
   "metadata": {},
   "outputs": [
    {
     "name": "stdout",
     "output_type": "stream",
     "text": [
      "Writing person.proto\n"
     ]
    }
   ],
   "source": [
    "%%writefile person.proto\n",
    "syntax = \"proto3\";\n",
    "message Person {\n",
    "    string name = 1;\n",
    "    int32 id = 2;\n",
    "    repeated string email = 3;\n",
    "}"
   ]
  },
  {
   "cell_type": "code",
   "execution_count": 6,
   "metadata": {},
   "outputs": [],
   "source": [
    "!protoc person.proto --python_out=. --descriptor_set_out=person.desc --include_imports"
   ]
  },
  {
   "cell_type": "code",
   "execution_count": 7,
   "metadata": {},
   "outputs": [
    {
     "name": "stdout",
     "output_type": "stream",
     "text": [
      "name: \"A1\"\n",
      "id: 123\n",
      "email: \"hi@hs.com\"\n",
      "\n"
     ]
    }
   ],
   "source": [
    "from person_pb2 import Person\n",
    "\n",
    "person = Person(name='A1', id=123, email=['hi@hs.com'])\n",
    "print(person)"
   ]
  },
  {
   "cell_type": "code",
   "execution_count": 11,
   "metadata": {},
   "outputs": [],
   "source": [
    "person.email.append('hello@gu.com')"
   ]
  },
  {
   "cell_type": "code",
   "execution_count": 12,
   "metadata": {},
   "outputs": [
    {
     "data": {
      "text/plain": [
       "b'\\n\\x02A1\\x10{\\x1a\\thi@hs.com\\x1a\\x0chello@gu.com'"
      ]
     },
     "execution_count": 12,
     "metadata": {},
     "output_type": "execute_result"
    }
   ],
   "source": [
    "serialized = person.SerializeToString()\n",
    "serialized"
   ]
  },
  {
   "cell_type": "code",
   "execution_count": 13,
   "metadata": {},
   "outputs": [
    {
     "data": {
      "text/plain": [
       "31"
      ]
     },
     "execution_count": 13,
     "metadata": {},
     "output_type": "execute_result"
    }
   ],
   "source": [
    "person2 = Person()\n",
    "person2.ParseFromString(serialized)"
   ]
  },
  {
   "cell_type": "code",
   "execution_count": 16,
   "metadata": {},
   "outputs": [
    {
     "data": {
      "text/plain": [
       "[<tf.Tensor: shape=(1,), dtype=string, numpy=array([b'A1'], dtype=object)>,\n",
       " <tf.Tensor: shape=(1,), dtype=int32, numpy=array([123], dtype=int32)>,\n",
       " <tf.Tensor: shape=(2,), dtype=string, numpy=array([b'hi@hs.com', b'hello@gu.com'], dtype=object)>]"
      ]
     },
     "execution_count": 16,
     "metadata": {},
     "output_type": "execute_result"
    }
   ],
   "source": [
    "person_tf = tf.io.decode_proto(\n",
    "    bytes = serialized,\n",
    "    message_type = 'Person',\n",
    "    field_names = ['name', 'id', 'email'],\n",
    "    output_types = [tf.string, tf.int32, tf.string],\n",
    "    descriptor_source = 'person.desc'\n",
    ")\n",
    "\n",
    "person_tf.values"
   ]
  },
  {
   "cell_type": "markdown",
   "metadata": {},
   "source": [
    "## Tensorflow内置Example Protobuf\n",
    "\n",
    "对于绝大部分应用场景而言，不需要自定义Protobuf格式，内置的就够用。最重要的Protobuf就是Example，其定义如下：\n",
    "\n",
    "```proto\n",
    "syntax = \"proto3\";\n",
    "\n",
    "message BytesList { repeated bytes value = 1; }\n",
    "message FloatList { repeated float value = 1 [packed = true]; }\n",
    "message Int64List { repeated int64 value = 1 [packed = true]; }\n",
    "message Feature {\n",
    "    oneof kind {\n",
    "        BytesList bytes_list = 1;\n",
    "        FloatList float_list = 2;\n",
    "        Int64List int64_list = 3;\n",
    "    }\n",
    "};\n",
    "message Features { map<string, Feature> feature = 1; };\n",
    "message Example { Features features = 1; };\n",
    "```\n"
   ]
  },
  {
   "cell_type": "code",
   "execution_count": 3,
   "metadata": {},
   "outputs": [],
   "source": [
    "from tensorflow.train import BytesList, FloatList, Int64List\n",
    "from tensorflow.train import Feature, Features, Example\n",
    "\n",
    "person_example = Example(\n",
    "    features = Features(\n",
    "        feature = {\n",
    "            'name': Feature(bytes_list = BytesList(value = [b'A1'])),\n",
    "            'id': Feature(int64_list = Int64List(value = [123])),\n",
    "            'email': Feature(bytes_list = BytesList(value = [b'hi@hs.com', b'hello@gu.com']))\n",
    "        }\n",
    "    )\n",
    ")\n",
    "\n",
    "with tf.io.TFRecordWriter('my_contacts.tfrecord') as f:\n",
    "    for _ in range(5):\n",
    "        f.write(person_example.SerializeToString())"
   ]
  },
  {
   "cell_type": "code",
   "execution_count": 19,
   "metadata": {},
   "outputs": [
    {
     "name": "stdout",
     "output_type": "stream",
     "text": [
      "{'emails': <tensorflow.python.framework.sparse_tensor.SparseTensor object at 0x7f9e92b57310>, 'id': <tf.Tensor: shape=(), dtype=int64, numpy=123>, 'name': <tf.Tensor: shape=(), dtype=string, numpy=b'A1'>}\n",
      "{'emails': <tensorflow.python.framework.sparse_tensor.SparseTensor object at 0x7f9e92b573d0>, 'id': <tf.Tensor: shape=(), dtype=int64, numpy=123>, 'name': <tf.Tensor: shape=(), dtype=string, numpy=b'A1'>}\n",
      "{'emails': <tensorflow.python.framework.sparse_tensor.SparseTensor object at 0x7f9e92b57dc0>, 'id': <tf.Tensor: shape=(), dtype=int64, numpy=123>, 'name': <tf.Tensor: shape=(), dtype=string, numpy=b'A1'>}\n",
      "{'emails': <tensorflow.python.framework.sparse_tensor.SparseTensor object at 0x7f9e92b57340>, 'id': <tf.Tensor: shape=(), dtype=int64, numpy=123>, 'name': <tf.Tensor: shape=(), dtype=string, numpy=b'A1'>}\n",
      "{'emails': <tensorflow.python.framework.sparse_tensor.SparseTensor object at 0x7f9e92b575b0>, 'id': <tf.Tensor: shape=(), dtype=int64, numpy=123>, 'name': <tf.Tensor: shape=(), dtype=string, numpy=b'A1'>}\n"
     ]
    }
   ],
   "source": [
    "feature_description = {\n",
    "    'name': tf.io.FixedLenFeature([], tf.string, default_value=''),\n",
    "    'id': tf.io.FixedLenFeature([], tf.int64, default_value=0),\n",
    "    'emails': tf.io.VarLenFeature(tf.string),\n",
    "}\n",
    "\n",
    "def parse(serialized_example):\n",
    "    return tf.io.parse_single_example(serialized_example, feature_description)\n",
    "\n",
    "dataset = tf.data.TFRecordDataset(['my_contacts.tfrecord']).map(parse)\n",
    "for parsed_example in dataset:\n",
    "    print(parsed_example)"
   ]
  },
  {
   "cell_type": "markdown",
   "metadata": {},
   "source": [
    "## SequenceExample Protobuf\n",
    "\n",
    "SequenceExample是一类更复杂的protobuf，其proto定义为：\n",
    "\n",
    "```proto\n",
    "syntax = \"proto3\";\n",
    "\n",
    "message FeatureList { repeated Feature feature = 1; };\n",
    "message FeatureLists { map<string, FeatureList> feature_list = 1; };\n",
    "message SequenceExample {\n",
    "    Features context = 1;\n",
    "    FeatureLists feature_lists = 2;\n",
    "};\n",
    "```\n",
    "\n",
    "下面是一个文章页面的示例，既包含了作者、标题、发布时间等context信息，也包含了内容（以句子和token划分）和评论。"
   ]
  },
  {
   "cell_type": "code",
   "execution_count": 31,
   "metadata": {},
   "outputs": [],
   "source": [
    "from tensorflow.train import FeatureList, FeatureLists, SequenceExample\n",
    "\n",
    "context = Features(feature={\n",
    "    'author_id': Feature(int64_list = Int64List(value = [123])),\n",
    "    'title': Feature(bytes_list = BytesList(value = [b'A', b'desert', b'.'])),\n",
    "    'pub_date': Feature(int64_list = Int64List(value = [1623, 12, 25]))\n",
    "})\n",
    "\n",
    "content = [['When', 'shall', 'we', 'three', 'meet', 'again', '?'],\n",
    "            ['In', 'thunder', ',', \"lightning\", \",\", \"or\", \"in\", \"rain\", \"?\"]]\n",
    "comments = [[\"When\", \"the\", \"hurlyburly\", \"'s\", \"done\", \".\"],\n",
    "            [\"When\", \"the\", \"battle\", \"'s\", \"lost\", \"and\", \"won\", \".\"]]\n",
    "\n",
    "def words_to_feature(words):\n",
    "    return Feature(bytes_list = BytesList(value = [word.encode('utf-8') for word in words]))\n",
    "\n",
    "content_features = [words_to_feature(sentence) for sentence in content]\n",
    "comment_features = [words_to_feature(comment) for comment in comments]\n",
    "\n",
    "sequence_example = SequenceExample(\n",
    "    context = context,\n",
    "    feature_lists = FeatureLists(feature_list = {\n",
    "        'content': FeatureList(feature = content_features),\n",
    "        'comments': FeatureList(feature = comment_features)\n",
    "    })\n",
    ")\n"
   ]
  },
  {
   "cell_type": "code",
   "execution_count": 32,
   "metadata": {},
   "outputs": [
    {
     "data": {
      "text/plain": [
       "context {\n",
       "  feature {\n",
       "    key: \"author_id\"\n",
       "    value {\n",
       "      int64_list {\n",
       "        value: 123\n",
       "      }\n",
       "    }\n",
       "  }\n",
       "  feature {\n",
       "    key: \"pub_date\"\n",
       "    value {\n",
       "      int64_list {\n",
       "        value: 1623\n",
       "        value: 12\n",
       "        value: 25\n",
       "      }\n",
       "    }\n",
       "  }\n",
       "  feature {\n",
       "    key: \"title\"\n",
       "    value {\n",
       "      bytes_list {\n",
       "        value: \"A\"\n",
       "        value: \"desert\"\n",
       "        value: \".\"\n",
       "      }\n",
       "    }\n",
       "  }\n",
       "}\n",
       "feature_lists {\n",
       "  feature_list {\n",
       "    key: \"comments\"\n",
       "    value {\n",
       "      feature {\n",
       "        bytes_list {\n",
       "          value: \"When\"\n",
       "          value: \"the\"\n",
       "          value: \"hurlyburly\"\n",
       "          value: \"\\'s\"\n",
       "          value: \"done\"\n",
       "          value: \".\"\n",
       "        }\n",
       "      }\n",
       "      feature {\n",
       "        bytes_list {\n",
       "          value: \"When\"\n",
       "          value: \"the\"\n",
       "          value: \"battle\"\n",
       "          value: \"\\'s\"\n",
       "          value: \"lost\"\n",
       "          value: \"and\"\n",
       "          value: \"won\"\n",
       "          value: \".\"\n",
       "        }\n",
       "      }\n",
       "    }\n",
       "  }\n",
       "  feature_list {\n",
       "    key: \"content\"\n",
       "    value {\n",
       "      feature {\n",
       "        bytes_list {\n",
       "          value: \"When\"\n",
       "          value: \"shall\"\n",
       "          value: \"we\"\n",
       "          value: \"three\"\n",
       "          value: \"meet\"\n",
       "          value: \"again\"\n",
       "          value: \"?\"\n",
       "        }\n",
       "      }\n",
       "      feature {\n",
       "        bytes_list {\n",
       "          value: \"In\"\n",
       "          value: \"thunder\"\n",
       "          value: \",\"\n",
       "          value: \"lightning\"\n",
       "          value: \",\"\n",
       "          value: \"or\"\n",
       "          value: \"in\"\n",
       "          value: \"rain\"\n",
       "          value: \"?\"\n",
       "        }\n",
       "      }\n",
       "    }\n",
       "  }\n",
       "}"
      ]
     },
     "execution_count": 32,
     "metadata": {},
     "output_type": "execute_result"
    }
   ],
   "source": [
    "sequence_example"
   ]
  },
  {
   "cell_type": "code",
   "execution_count": 33,
   "metadata": {},
   "outputs": [],
   "source": [
    "serialized_sequence_example = sequence_example.SerializeToString()"
   ]
  },
  {
   "cell_type": "code",
   "execution_count": 34,
   "metadata": {},
   "outputs": [],
   "source": [
    "context_feature_descriptions = {\n",
    "    'author_id': tf.io.FixedLenFeature([], tf.int64, default_value = 0),\n",
    "    'title': tf.io.VarLenFeature(tf.string),\n",
    "    'pub_date': tf.io.FixedLenFeature([3], tf.int64, default_value = [0, 0, 0])\n",
    "}\n",
    "\n",
    "sequence_feature_descriptions = {\n",
    "    'content': tf.io.VarLenFeature(tf.string),\n",
    "    'comments': tf.io.VarLenFeature(tf.string)\n",
    "}\n",
    "\n",
    "parsed_context, parsed_feature_lists = tf.io.parse_single_sequence_example(\n",
    "    serialized_sequence_example, context_feature_descriptions,\n",
    "    sequence_feature_descriptions)\n",
    "parsed_content = tf.RaggedTensor.from_sparse(parsed_feature_lists['content'])"
   ]
  },
  {
   "cell_type": "code",
   "execution_count": 35,
   "metadata": {},
   "outputs": [
    {
     "data": {
      "text/plain": [
       "{'title': <tensorflow.python.framework.sparse_tensor.SparseTensor at 0x7f9fc85651c0>,\n",
       " 'author_id': <tf.Tensor: shape=(), dtype=int64, numpy=123>,\n",
       " 'pub_date': <tf.Tensor: shape=(3,), dtype=int64, numpy=array([1623,   12,   25])>}"
      ]
     },
     "execution_count": 35,
     "metadata": {},
     "output_type": "execute_result"
    }
   ],
   "source": [
    "parsed_context"
   ]
  },
  {
   "cell_type": "code",
   "execution_count": 36,
   "metadata": {},
   "outputs": [
    {
     "data": {
      "text/plain": [
       "<tf.Tensor: shape=(3,), dtype=string, numpy=array([b'A', b'desert', b'.'], dtype=object)>"
      ]
     },
     "execution_count": 36,
     "metadata": {},
     "output_type": "execute_result"
    }
   ],
   "source": [
    "parsed_context['title'].values"
   ]
  },
  {
   "cell_type": "code",
   "execution_count": 37,
   "metadata": {},
   "outputs": [
    {
     "data": {
      "text/plain": [
       "<tf.RaggedTensor [[b'When', b'shall', b'we', b'three', b'meet', b'again', b'?'], [b'In', b'thunder', b',', b'lightning', b',', b'or', b'in', b'rain', b'?']]>"
      ]
     },
     "execution_count": 37,
     "metadata": {},
     "output_type": "execute_result"
    }
   ],
   "source": [
    "parsed_content"
   ]
  },
  {
   "cell_type": "markdown",
   "metadata": {},
   "source": [
    "## ExampleListWithContext Protobuf\n",
    "\n",
    "这种Protobuf常见于ranking领域，可以看到和SequenceExample有点相似，结构不如SequenceExample紧凑\n",
    "\n",
    "```proto\n",
    "syntax = \"proto3\";\n",
    "\n",
    "message ExampleListWithContext {\n",
    "    repeated Example examples = 1;\n",
    "    Example context = 2\n",
    "};\n",
    "```"
   ]
  },
  {
   "cell_type": "code",
   "execution_count": 4,
   "metadata": {},
   "outputs": [],
   "source": [
    "context = Example(features = Features(feature = {\n",
    "    'query_tokens': Feature(bytes_list = BytesList(value = [b'this', b'is', b'a', b'relevant', b'question'])),\n",
    "}))\n",
    "\n",
    "document1 = Example(features = Features(feature = {\n",
    "    'document_tokens': Feature(bytes_list = BytesList(value = [b'this', b'is', b'a', b'relevant', b'answer'])),\n",
    "    'relevance': Feature(int64_list = Int64List(value = [5]))\n",
    "}))\n",
    "\n",
    "document2 = Example(features = Features(feature = {\n",
    "    'document_tokens': Feature(bytes_list = BytesList(value = [b'irrelevant', b'data'])),\n",
    "    'relevance': Feature(int64_list = Int64List(value = [1]))\n",
    "}))"
   ]
  },
  {
   "cell_type": "code",
   "execution_count": 5,
   "metadata": {},
   "outputs": [
    {
     "data": {
      "text/plain": [
       "examples {\n",
       "  features {\n",
       "    feature {\n",
       "      key: \"document_tokens\"\n",
       "      value {\n",
       "        bytes_list {\n",
       "          value: \"this\"\n",
       "          value: \"is\"\n",
       "          value: \"a\"\n",
       "          value: \"relevant\"\n",
       "          value: \"answer\"\n",
       "        }\n",
       "      }\n",
       "    }\n",
       "    feature {\n",
       "      key: \"relevance\"\n",
       "      value {\n",
       "        int64_list {\n",
       "          value: 5\n",
       "        }\n",
       "      }\n",
       "    }\n",
       "  }\n",
       "}\n",
       "examples {\n",
       "  features {\n",
       "    feature {\n",
       "      key: \"document_tokens\"\n",
       "      value {\n",
       "        bytes_list {\n",
       "          value: \"irrelevant\"\n",
       "          value: \"data\"\n",
       "        }\n",
       "      }\n",
       "    }\n",
       "    feature {\n",
       "      key: \"relevance\"\n",
       "      value {\n",
       "        int64_list {\n",
       "          value: 1\n",
       "        }\n",
       "      }\n",
       "    }\n",
       "  }\n",
       "}\n",
       "context {\n",
       "  features {\n",
       "    feature {\n",
       "      key: \"query_tokens\"\n",
       "      value {\n",
       "        bytes_list {\n",
       "          value: \"this\"\n",
       "          value: \"is\"\n",
       "          value: \"a\"\n",
       "          value: \"relevant\"\n",
       "          value: \"question\"\n",
       "        }\n",
       "      }\n",
       "    }\n",
       "  }\n",
       "}"
      ]
     },
     "execution_count": 5,
     "metadata": {},
     "output_type": "execute_result"
    }
   ],
   "source": [
    "from tensorflow_serving.apis.input_pb2 import ExampleListWithContext as ELWC\n",
    "\n",
    "elwc = ELWC(examples = [document1, document2], context=context)\n",
    "elwc"
   ]
  },
  {
   "cell_type": "code",
   "execution_count": 6,
   "metadata": {},
   "outputs": [],
   "source": [
    "serialized_elwc = elwc.SerializeToString()"
   ]
  },
  {
   "cell_type": "code",
   "execution_count": 9,
   "metadata": {},
   "outputs": [
    {
     "data": {
      "text/plain": [
       "{'relevance': <tf.Tensor: shape=(1, 2), dtype=int64, numpy=array([[5, 1]])>,\n",
       " 'document_tokens': <tf.RaggedTensor [[[b'this', b'is', b'a', b'relevant', b'answer'], [b'irrelevant', b'data']]]>,\n",
       " 'query_tokens': <tf.RaggedTensor [[b'this', b'is', b'a', b'relevant', b'question']]>,\n",
       " '_list_size_': <tf.Tensor: shape=(1,), dtype=int32, numpy=array([2], dtype=int32)>,\n",
       " '_mask_': <tf.Tensor: shape=(1, 2), dtype=bool, numpy=array([[ True,  True]])>}"
      ]
     },
     "execution_count": 9,
     "metadata": {},
     "output_type": "execute_result"
    }
   ],
   "source": [
    "context_feature_descriptions = {\n",
    "    'query_tokens': tf.io.RaggedFeature(tf.string)\n",
    "}\n",
    "\n",
    "example_feature_descriptions = {\n",
    "    'document_tokens': tf.io.RaggedFeature(tf.string),\n",
    "    'relevance': tf.io.FixedLenFeature([], tf.int64)\n",
    "}\n",
    "\n",
    "import tensorflow_ranking as tfr\n",
    "\n",
    "parsed_elwc = tfr.data.parse_from_example_list(\n",
    "    serialized=[serialized_elwc],\n",
    "    list_size = 2,\n",
    "    context_feature_spec=context_feature_descriptions,\n",
    "    example_feature_spec=example_feature_descriptions,\n",
    "    size_feature_name = '_list_size_',\n",
    "    mask_feature_name = '_mask_'\n",
    ")\n",
    "\n",
    "parsed_elwc"
   ]
  },
  {
   "cell_type": "code",
   "execution_count": null,
   "metadata": {},
   "outputs": [],
   "source": []
  }
 ],
 "metadata": {
  "interpreter": {
   "hash": "a25df13df3a09e29cbdae6ff7053faf9527e3ea6ab1de3b1c9c24b3626196969"
  },
  "kernelspec": {
   "display_name": "Python 3.9.7 ('ds')",
   "language": "python",
   "name": "python3"
  },
  "language_info": {
   "codemirror_mode": {
    "name": "ipython",
    "version": 3
   },
   "file_extension": ".py",
   "mimetype": "text/x-python",
   "name": "python",
   "nbconvert_exporter": "python",
   "pygments_lexer": "ipython3",
   "version": "3.9.7"
  },
  "orig_nbformat": 4
 },
 "nbformat": 4,
 "nbformat_minor": 2
}
